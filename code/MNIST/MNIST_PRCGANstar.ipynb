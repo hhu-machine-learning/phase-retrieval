{
 "cells": [
  {
   "cell_type": "code",
   "execution_count": 1,
   "metadata": {},
   "outputs": [],
   "source": [
    "### Prepare module structure ###\n",
    "\n",
    "import sys\n",
    "sys.path.append(\"../\")"
   ]
  },
  {
   "cell_type": "code",
   "execution_count": 2,
   "metadata": {},
   "outputs": [
    {
     "name": "stdout",
     "output_type": "stream",
     "text": [
      "1.0.0\n"
     ]
    }
   ],
   "source": [
    "### IMPORT ###\n",
    "\n",
    "import numpy as np\n",
    "import math\n",
    "import pandas as pd\n",
    "\n",
    "import torch\n",
    "import torch.nn as nn\n",
    "import torch.optim as optim\n",
    "\n",
    "import time\n",
    "from tqdm.notebook import tqdm\n",
    "\n",
    "import matplotlib.pyplot as plt\n",
    "%matplotlib inline\n",
    "\n",
    "from util import *\n",
    "import data\n",
    "import models\n",
    "\n",
    "# auto reload imports on local changes\n",
    "%load_ext autoreload\n",
    "%autoreload 2\n",
    "print(torch.__version__)"
   ]
  },
  {
   "cell_type": "code",
   "execution_count": 3,
   "metadata": {},
   "outputs": [
    {
     "name": "stdout",
     "output_type": "stream",
     "text": [
      "using device: cuda:1\n"
     ]
    }
   ],
   "source": [
    "### Check device ###\n",
    "\n",
    "USE_GPU = True\n",
    "\n",
    "dtype = torch.float32\n",
    "\n",
    "if USE_GPU and torch.cuda.is_available():\n",
    "    # TODO: Change to CPU used!\n",
    "    device = torch.device('cuda:1')\n",
    "else:\n",
    "    device = torch.device('cpu')\n",
    "\n",
    "print('using device:', device)"
   ]
  },
  {
   "cell_type": "code",
   "execution_count": 4,
   "metadata": {},
   "outputs": [],
   "source": [
    "### LOAD DATA ###\n",
    "\n",
    "dataset = 'mnist'\n",
    "dataloader, imsize = data.load(dataset, path='../data/' + dataset, batch_size=256)"
   ]
  },
  {
   "cell_type": "code",
   "execution_count": 5,
   "metadata": {},
   "outputs": [],
   "source": [
    "def calc_mags(x):\n",
    "    ft =  torch.rfft(x, 2, onesided=False)\n",
    "    mags = torch.sqrt(torch.sum(ft ** 2, -1) + 1e-16)\n",
    "    return mags"
   ]
  },
  {
   "cell_type": "code",
   "execution_count": 27,
   "metadata": {},
   "outputs": [
    {
     "name": "stdout",
     "output_type": "stream",
     "text": [
      "Version 0.4\n"
     ]
    }
   ],
   "source": [
    "### LOAD MODEL ####\n",
    "\n",
    "model_name = \"zeroz\"\n",
    "\n",
    "gen = models.FCNet(imsize=(2, 28, 28), outsize=imsize, h=2048)\n",
    "\n",
    "# TODO: map storage location to correct GPU!\n",
    "gen.load_state_dict(torch.load(\"../cache/models/cGAN_MNIST/FCGenerator2048MNIST_{}.sd\".format(model_name)));\n",
    "gen = gen.to(device)\n",
    "gen.eval();"
   ]
  },
  {
   "cell_type": "code",
   "execution_count": 21,
   "metadata": {},
   "outputs": [],
   "source": [
    "# Latent z optimization\n",
    "\n",
    "def genopt(sample_magn, gen, device, init_x=None, steps=5000, lmd=0.0, lr=1.0):\n",
    "    \n",
    "    gen.to(device)\n",
    "    gen.eval()\n",
    "    \n",
    "    if init_x is None:\n",
    "        # TODO: init like PRCGAN\n",
    "        #z = torch.randn((sample_magn.shape), requires_grad=True, device=device)\n",
    "        z = torch.zeros(*sample_magn.shape, requires_grad=True, dtype=sample_magn.dtype, device=device).to(device)\n",
    "        #z = sample_magn.clone().to(device=device).requires_grad_(True)\n",
    "    else:\n",
    "        raise NotImplementedError\n",
    "    \n",
    "    opt = optim.Adam([z], lr=lr)\n",
    "    \n",
    "    losses = []\n",
    "    errors = []\n",
    "    last_out = gen(torch.cat([z, sample_magn], dim=1))\n",
    "    \n",
    "    with tqdm(total=steps) as pbar:\n",
    "        for _ in range(steps):\n",
    "            magn = calc_mags(last_out)\n",
    "\n",
    "            error = torch.mean((magn - sample_magn) ** 2, dim=(1, 2, 3))\n",
    "            regul = torch.sum(z ** 2)\n",
    "            loss = torch.sum(error) + lmd * regul\n",
    "\n",
    "            opt.zero_grad()\n",
    "            loss.backward()\n",
    "            opt.step()\n",
    "\n",
    "            last_out = gen(torch.cat([z, sample_magn], dim=1))\n",
    "\n",
    "            errors.append(error.detach().cpu().numpy())\n",
    "            losses.append(loss.item())\n",
    "            pbar.update()\n",
    "    \n",
    "    return last_out.detach().cpu().numpy(), errors"
   ]
  },
  {
   "cell_type": "code",
   "execution_count": 64,
   "metadata": {},
   "outputs": [
    {
     "data": {
      "application/vnd.jupyter.widget-view+json": {
       "model_id": "2e5907bf44ba4e7e82e7b6bbe5121a7b",
       "version_major": 2,
       "version_minor": 0
      },
      "text/plain": [
       "HBox(children=(FloatProgress(value=0.0, max=4.0), HTML(value='')))"
      ]
     },
     "metadata": {},
     "output_type": "display_data"
    },
    {
     "data": {
      "application/vnd.jupyter.widget-view+json": {
       "model_id": "2c08776b92c5471cb5eebf43c3b696c3",
       "version_major": 2,
       "version_minor": 0
      },
      "text/plain": [
       "HBox(children=(FloatProgress(value=0.0, max=1.0), HTML(value='')))"
      ]
     },
     "metadata": {},
     "output_type": "display_data"
    },
    {
     "name": "stdout",
     "output_type": "stream",
     "text": [
      "\n"
     ]
    },
    {
     "data": {
      "application/vnd.jupyter.widget-view+json": {
       "model_id": "3c9babc6d7024ffdb0db909e67e4e373",
       "version_major": 2,
       "version_minor": 0
      },
      "text/plain": [
       "HBox(children=(FloatProgress(value=0.0, max=1.0), HTML(value='')))"
      ]
     },
     "metadata": {},
     "output_type": "display_data"
    },
    {
     "name": "stdout",
     "output_type": "stream",
     "text": [
      "\n"
     ]
    },
    {
     "data": {
      "application/vnd.jupyter.widget-view+json": {
       "model_id": "6888409d5f4e4f8caa271eebe22ec0a5",
       "version_major": 2,
       "version_minor": 0
      },
      "text/plain": [
       "HBox(children=(FloatProgress(value=0.0, max=1.0), HTML(value='')))"
      ]
     },
     "metadata": {},
     "output_type": "display_data"
    },
    {
     "name": "stdout",
     "output_type": "stream",
     "text": [
      "\n"
     ]
    },
    {
     "data": {
      "application/vnd.jupyter.widget-view+json": {
       "model_id": "344a7121c893447ab086d4f7445eb6bf",
       "version_major": 2,
       "version_minor": 0
      },
      "text/plain": [
       "HBox(children=(FloatProgress(value=0.0, max=1.0), HTML(value='')))"
      ]
     },
     "metadata": {},
     "output_type": "display_data"
    },
    {
     "name": "stdout",
     "output_type": "stream",
     "text": [
      "\n",
      "\n"
     ]
    }
   ],
   "source": [
    "### Latent z optimization ###\n",
    "\n",
    "num_batches = 4\n",
    "batch_size = 256\n",
    "steps = 1\n",
    "lmd = 0.0\n",
    "lr = 1.0\n",
    "\n",
    "###\n",
    "\n",
    "out_original = np.zeros((batch_size * num_batches, *imsize))\n",
    "out_results = np.zeros((batch_size * num_batches, *imsize))\n",
    "errors = np.full((batch_size * num_batches, steps), np.inf)\n",
    "\n",
    "with tqdm(total=num_batches, position=0) as pbar:\n",
    "    for batch_i, batch in enumerate(dataloader['test']):\n",
    "        test_sample = batch.to(device)\n",
    "        test_magnitudes = calc_mags(test_sample)   \n",
    "        out_original[batch_size * batch_i : batch_size * batch_i + batch_size] = test_sample.cpu().numpy()\n",
    "        \n",
    "        cur_out_results, cur_error = genopt(sample_magn=test_magnitudes, gen=gen, device=device,\n",
    "                                                      steps=steps, lmd=lmd, lr=lr)\n",
    "\n",
    "        out_results[batch_size * batch_i : batch_size * batch_i + batch_size] = cur_out_results\n",
    "        errors[batch_size * batch_i : batch_size * batch_i + batch_size] = np.array(cur_error).T\n",
    "\n",
    "        pbar.update()\n",
    "        if batch_i + 1 >= num_batches:\n",
    "            break"
   ]
  },
  {
   "cell_type": "code",
   "execution_count": 65,
   "metadata": {},
   "outputs": [],
   "source": [
    "### CACHE ERRORS ###\n",
    "\n",
    "import pickle\n",
    "pickle.dump(errors, open(\"../cache/prcgan/err-prcgan-{}-{}s-{}b.p\".format(model_name, steps, num_batches), \"wb\"))"
   ]
  },
  {
   "cell_type": "code",
   "execution_count": 66,
   "metadata": {},
   "outputs": [],
   "source": [
    "### LOAD ERRORS ###\n",
    "import pickle\n",
    "\n",
    "errors = pickle.load(open(\"../cache/prcgan/err-prcgan-{}-{}s-{}b.p\".format(model_name, steps, num_batches), \"rb\"))"
   ]
  },
  {
   "cell_type": "code",
   "execution_count": 67,
   "metadata": {},
   "outputs": [
    {
     "data": {
      "image/png": "[encoded data removed]",
      "text/plain": [
       "<Figure size 432x288 with 1 Axes>"
      ]
     },
     "metadata": {},
     "output_type": "display_data"
    }
   ],
   "source": [
    "plt.xlabel(\"Iteration k\")\n",
    "plt.yscale('symlog')\n",
    "plt.ylabel(\"Error\")\n",
    "plt.plot(np.mean(errors, axis=0))\n",
    "plt.grid(which='major')\n",
    "plt.grid(which='minor')\n",
    "plt.savefig(\"../out/plots/MNIST_PRCGAN_error-{}-{}s-{}b.png\".format(model_name, steps, num_batches), dpi=200)\n",
    "plt.show()"
   ]
  },
  {
   "cell_type": "code",
   "execution_count": 68,
   "metadata": {},
   "outputs": [],
   "source": [
    "### CACHE RESULTS ###\n",
    "\n",
    "import pickle\n",
    "pickle.dump(out_original, open(\"../cache/prcgan/prcgan-{}-{}s-{}b_original.p\".format(model_name, steps, num_batches), \"wb\"))\n",
    "pickle.dump(out_results, open(\"../cache/prcgan/prcgan-{}-{}s-{}b.p\".format(model_name, steps, num_batches), \"wb\"))"
   ]
  },
  {
   "cell_type": "code",
   "execution_count": 69,
   "metadata": {},
   "outputs": [],
   "source": [
    "### LOAD RESULTS ###\n",
    "import pickle\n",
    "\n",
    "out_original = pickle.load(open(\"../cache/prcgan/prcgan-{}-{}s-{}b_original.p\".format(model_name, steps, num_batches), \"rb\"))\n",
    "out_results = pickle.load(open(\"../cache/prcgan/prcgan-{}-{}s-{}b.p\".format(model_name, steps, num_batches), \"rb\"))"
   ]
  },
  {
   "cell_type": "code",
   "execution_count": 70,
   "metadata": {},
   "outputs": [
    {
     "name": "stderr",
     "output_type": "stream",
     "text": [
      "Clipping input data to the valid range for imshow with RGB data ([0..1] for floats or [0..255] for integers).\n"
     ]
    },
    {
     "data": {
      "image/png": "[encoded data removed]",
      "text/plain": [
       "<Figure size 576x576 with 1 Axes>"
      ]
     },
     "metadata": {},
     "output_type": "display_data"
    },
    {
     "name": "stderr",
     "output_type": "stream",
     "text": [
      "Clipping input data to the valid range for imshow with RGB data ([0..1] for floats or [0..255] for integers).\n"
     ]
    },
    {
     "name": "stdout",
     "output_type": "stream",
     "text": [
      "Registered:\n"
     ]
    },
    {
     "data": {
      "image/png": "[encoded data removed]",
      "text/plain": [
       "<Figure size 576x576 with 1 Axes>"
      ]
     },
     "metadata": {},
     "output_type": "display_data"
    }
   ],
   "source": [
    "# Print predictions #\n",
    "to_plot = np.stack([out_original[:32, 0].reshape(4, 8, 28, 28), \n",
    "                    out_results[:32, 0].reshape(4, 8, 28, 28)], axis=1).reshape(-1, 1, 28, 28)\n",
    "plot_grid(to_plot, figsize=(8,8),file=\"../out/MNIST/generative-prior/prcgan-{}-{}s-{}b.png\"\\\n",
    "          .format(model_name, steps, num_batches))\n",
    "\n",
    "print(\"Registered:\")\n",
    "results_reg = register_croco(out_results[:32], out_original[:32])\n",
    "to_plot = np.stack([out_original[:32, 0].reshape(4, 8, 28, 28), \n",
    "                    results_reg[:, 0].reshape(4, 8, 28, 28)], axis=1).reshape(-1, 1, 28, 28)        \n",
    "plot_grid(to_plot, figsize=(8,8), file=\"../out/MNIST/generative-prior/prcgan-{}-{}s-{}b-reg.png\"\\\n",
    "          .format(model_name, steps, num_batches))"
   ]
  },
  {
   "cell_type": "code",
   "execution_count": 71,
   "metadata": {},
   "outputs": [
    {
     "name": "stdout",
     "output_type": "stream",
     "text": [
      "Signal error:\n",
      "  MSE: 0.022475281660234107, std: 0.02173761420933473\n",
      "  MAE: 0.04585451915513217, std: 0.02774277372489171\n",
      "  SSIM: 0.815867531589457, std: 0.14620040646063784\n",
      "  Sharpness: 0.08312081788594738, std: 0.02798763602995287\n",
      "  PhCo-MSE: 0.015099398268568496, std: 0.011299904472760743\n",
      "  PhCo-MAE: 0.03677124958961847, std: 0.016852073448319682\n",
      "  PhCo-SSIM: 0.8643893244302768, std: 0.08595353535009348\n",
      "  CroCo-MSE: 0.013668608773294176, std: 0.008167097607948067\n",
      "  CroCo-MAE: 0.03501169157996736, std: 0.0143238805379362\n",
      "  CroCo-SSIM: 0.8743942705933785, std: 0.06897131884598529\n",
      "\n",
      "Magnitude error:\n",
      "  MSE Magnitude: 2.4263552154146613, std: 1.6312522642587095\n",
      "\n",
      "Image constraints:\n",
      "  Imag part = 0.0 - should be very close to 0\n",
      "  Real part is in [0.00, 1.00] - should be in [0, 1]\n",
      "\n",
      "Markdown table values:\n",
      " 0.02248 | 0.04585 | 0.8159 | 0.08312 | 0.01510 | 0.03677 | 0.8644 | 0.01367 | 0.03501 | 0.8744 | 2.426 |\n"
     ]
    }
   ],
   "source": [
    "# Benchmark test predictions #\n",
    "\n",
    "benchmark(pred=out_results[:1024], true=out_original[:1024], check_all=True)"
   ]
  },
  {
   "cell_type": "markdown",
   "metadata": {},
   "source": [
    "### Random z\n",
    "\n",
    "| steps | lr | reg | MSE | MAE | SSIM | SHRP | PhCo-MSE | PhCo-MAE | PhCo-SSIM | CroCo-MSE | CroCo-MAE | CroCo-SSIM | MSE Magn |\n",
    "| --- | --- | --- | --- | --- | --- | --- | --- | --- | --- | --- | --- | --- |\n",
    "| 100 | 1.0 | - | 0.02037 | 0.03864 | 0.8427 | 0.03576 | 0.003203 | 0.01405 | 0.9685 | 0.002880 | 0.01365 | 0.9708 | 0.2468 |\n",
    "| 1000 | 1.0 | - | 0.02103 | 0.03678 | 0.8408 | 0.01654 | 0.001453 | 0.006769 | 0.9858 | 0.001251 | 0.006517 | 0.9873 | 0.06303 |\n",
    "| 10000 | 1.0 | - | 0.02113 | 0.03600 | 0.8400 | 0.01105 | 0.001326 | 0.004837 | 0.9874 | 0.001113 | 0.004595 | 0.9888 | 0.03529 |\n",
    "\n",
    "Signal error:\n",
    "  MSE: 0.021034426705518874, std: 0.02792752544231687\n",
    "  MAE: 0.036783379523503315, std: 0.03980707234886323\n",
    "  SSIM: 0.8407555464867762, std: 0.19330732876058487\n",
    "  Sharpness: 0.016542975558316922, std: 0.020552354326638336\n",
    "  PhCo-MSE: 0.001453431413425473, std: 0.0057620394486133835\n",
    "  PhCo-MAE: 0.006769362872673511, std: 0.010701422534126185\n",
    "  PhCo-SSIM: 0.9858415777938948, std: 0.04926352788838103\n",
    "  CroCo-MSE: 0.0012506157955389642, std: 0.004712075279271575\n",
    "  CroCo-MAE: 0.006516509510403279, std: 0.009707250524531892\n",
    "  CroCo-SSIM: 0.9872627592984858, std: 0.042788646500661026\n",
    "\n",
    "Magnitude error:\n",
    "  MSE Magnitude: 0.06302549643392931, std: 0.16088016570130523\n",
    "\n",
    "Image constraints:\n",
    "  Imag part = 0.0 - should be very close to 0\n",
    "  Real part is in [0.00, 1.00] - should be in [0, 1]\n",
    "\n",
    "\n",
    "---\n",
    "\n",
    "Signal error:\n",
    "  MSE: 0.021132170758821553, std: 0.027943211615490165\n",
    "  MAE: 0.03600185587283779, std: 0.04061892559390817\n",
    "  SSIM: 0.8399740670455008, std: 0.19436162986255717\n",
    "  Sharpness: 0.011045982589995972, std: 0.022084064040708763\n",
    "  PhCo-MSE: 0.0013261830257157393, std: 0.006281207836805215\n",
    "  PhCo-MAE: 0.004837244000750465, std: 0.011444139637821652\n",
    "  PhCo-SSIM: 0.9873820491788762, std: 0.05257601658001079\n",
    "  CroCo-MSE: 0.0011132030792846343, std: 0.005047995534352116\n",
    "  CroCo-MAE: 0.004595263382659135, std: 0.010414105816178337\n",
    "  CroCo-SSIM: 0.9887715130018514, std: 0.046605838235418105\n",
    "\n",
    "Magnitude error:\n",
    "  MSE Magnitude: 0.035290605860936894, std: 0.13599231279468096\n",
    "\n",
    "Image constraints:\n",
    "  Imag part = 0.0 - should be very close to 0\n",
    "  Real part is in [0.00, 1.00] - should be in [0, 1]\n",
    "  \n",
    "  \n",
    "### z = magn\n",
    "\n",
    "| steps | lr | reg | MSE | MAE | SSIM | SHRP | PhCo-MSE | PhCo-MAE | PhCo-SSIM | CroCo-MSE | CroCo-MAE | CroCo-SSIM | MSE Magn |\n",
    "| --- | --- | --- | --- | --- | --- | --- | --- | --- | --- | --- | --- | --- |\n",
    "| 10000 | 1.0 | - | 0.02387 | 0.04008 | 0.8220 | 0.01203 | 0.001308 | 0.005192 | 0.9880 | 0.001128 | 0.004981 | 0.9890 | 0.04126 |\n",
    "\n",
    "Signal error:\n",
    "  MSE: 0.023872316614280326, std: 0.02985488824086263\n",
    "  MAE: 0.04007831752331549, std: 0.04222464722715452\n",
    "  SSIM: 0.82200604264092, std: 0.2018574279793221\n",
    "  Sharpness: 0.012030273327434449, std: 0.02156160638071391\n",
    "  PhCo-MSE: 0.001307936574175579, std: 0.00611107212154575\n",
    "  PhCo-MAE: 0.0051915426976917286, std: 0.011252478383608865\n",
    "  PhCo-SSIM: 0.9879541935080723, std: 0.05152743484919095\n",
    "  CroCo-MSE: 0.00112786660608192, std: 0.005091916801362864\n",
    "  CroCo-MAE: 0.0049812968493204894, std: 0.010281700172205668\n",
    "  CroCo-SSIM: 0.9890283994416267, std: 0.04654741252853095\n",
    "\n",
    "Magnitude error:\n",
    "  MSE Magnitude: 0.04126474308762697, std: 0.1309130277274746\n",
    "\n",
    "Image constraints:\n",
    "  Imag part = 0.0 - should be very close to 0\n",
    "  Real part is in [0.00, 1.00] - should be in [0, 1]\n",
    "\n",
    "\n",
    "### z = 0\n",
    "\n",
    "| steps | lr | reg | MSE | MAE | SSIM | SHRP | PhCo-MSE | PhCo-MAE | PhCo-SSIM | CroCo-MSE | CroCo-MAE | CroCo-SSIM | MSE Magn |\n",
    "| --- | --- | --- | --- | --- | --- | --- | --- | --- | --- | --- | --- | --- |\n",
    "| 1 | 0.1 | - | 0.02248 | 0.04585 | 0.8159 | 0.08312 | 0.01510 | 0.03677 | 0.8644 | 0.01367 | 0.03501 | 0.8744 | 2.426 |\n",
    "| 10 | 0.1 | - | 0.02064 | 0.04201 | 0.8359 | 0.06459 | 0.008601 | 0.02649 | 0.9185 | 0.007943 | 0.02567 | 0.9231 | 1.037 |\n",
    "| 25 | 0.1 | - | 0.01996 | 0.04010 | 0.8436 | 0.05315 | 0.005910 | 0.02125 | 0.9429 | 0.005443 | 0.02068 | 0.9463 | 0.5937 |\n",
    "| 100 | 0.1 | - | 0.02012 | 0.03797 | 0.8460 | 0.03455 | 0.002995 | 0.01350 | 0.9707 | 0.002712 | 0.01316 | 0.9730 | 0.2225 |\n",
    "| 500 | 0.1 | - | 0.02057 | 0.03642 | 0.8444 | 0.01956 | 0.001560 | 0.007792 | 0.9846 | 0.001353 | 0.007543 | 0.9862 | 0.07636 |\n",
    "| 1000 | 0.1 | - | 0.02072 | 0.03604 | 0.8438 | 0.01598 | 0.001328 | 0.006466 | 0.9869 | 0.001136 | 0.006245 | 0.9883 | 0.05313 |\n",
    "| 2000 | 0.1 | - | 0.02084 | 0.03578 | 0.8433 | 0.01334 | 0.001183 | 0.005510 | 0.9884 | 0.001013 | 0.005307 | 0.9897 | 0.04027 |\n",
    "| 4000 | 0.1 | - | 0.02093 | 0.03563 | 0.8428 | 0.01148 | 0.001055 | 0.004806 | 0.9894 | 0.0009179 | 0.004637 | 0.9905 | 0.03272 |\n",
    "| 10000 | 1.0 | - | 0.02102 | 0.03548 | 0.8423 | 0.009946 | 0.001011 | 0.004255 | 0.9898 | 0.0008475 | 0.004057 | 0.9911 | 0.02658 |\n",
    "\n",
    "\n",
    "Signal error:\n",
    "  MSE: 0.021019180475365603, std: 0.02893437074694003\n",
    "  MAE: 0.0354793687128571, std: 0.04125123341771097\n",
    "  SSIM: 0.8422982977483061, std: 0.19752906093002276\n",
    "  Sharpness: 0.009946102982066591, std: 0.01921682279750895\n",
    "  PhCo-MSE: 0.0010112216698962948, std: 0.004696567460229517\n",
    "  PhCo-MAE: 0.004255040753619008, std: 0.009488312333523525\n",
    "  PhCo-SSIM: 0.9898329175272272, std: 0.04207521855964034\n",
    "  CroCo-MSE: 0.0008474868159656598, std: 0.003538177245859828\n",
    "  CroCo-MAE: 0.004056901976908469, std: 0.00850613337291144\n",
    "  CroCo-SSIM: 0.9910881100390998, std: 0.035361086317214394\n",
    "\n",
    "Magnitude error:\n",
    "  MSE Magnitude: 0.026575725753501103, std: 0.0879305049935527\n",
    "\n",
    "Image constraints:\n",
    "  Imag part = 0.0 - should be very close to 0\n",
    "  Real part is in [0.00, 1.00] - should be in [0, 1]"
   ]
  },
  {
   "cell_type": "markdown",
   "metadata": {},
   "source": [
    "## Out of distribution"
   ]
  },
  {
   "cell_type": "code",
   "execution_count": 22,
   "metadata": {},
   "outputs": [],
   "source": [
    "# Helper functions\n",
    "\n",
    "from PIL import Image\n",
    "\n",
    "def unit(x, scale=1):\n",
    "    _x = x ** scale\n",
    "    _x = _x - np.minimum(np.min(_x), 0)\n",
    "    return _x / np.max(_x)\n",
    "\n",
    "def plot(x):\n",
    "    plt.imshow(x, cmap=\"gray\")\n",
    "    plt.show()\n",
    "\n",
    "def save_array(array, path):\n",
    "    array = np.clip(array, 0.0, 1.0)\n",
    "    plot(array)\n",
    "    im = Image.fromarray((255 * array).astype('uint8'))\n",
    "    im.save(path)"
   ]
  },
  {
   "cell_type": "code",
   "execution_count": 23,
   "metadata": {},
   "outputs": [
    {
     "data": {
      "image/png": "[encoded data removed]",
      "text/plain": [
       "<Figure size 432x288 with 1 Axes>"
      ]
     },
     "metadata": {},
     "output_type": "display_data"
    }
   ],
   "source": [
    "from skimage import io\n",
    "\n",
    "name = \"ood4\"\n",
    "\n",
    "ood_x = torch.tensor(io.imread('../data/ood/{}.png'.format(name), as_gray=True),\n",
    "                    dtype = next(iter(dataloader['train'])).dtype)[None, None, ...]\n",
    "\n",
    "plot(ood_x[0, 0])"
   ]
  },
  {
   "cell_type": "code",
   "execution_count": 46,
   "metadata": {},
   "outputs": [
    {
     "data": {
      "application/vnd.jupyter.widget-view+json": {
       "model_id": "454d0350ab834f94a3d2e2df4dc32afb",
       "version_major": 2,
       "version_minor": 0
      },
      "text/plain": [
       "HBox(children=(FloatProgress(value=0.0, max=20000.0), HTML(value='')))"
      ]
     },
     "metadata": {},
     "output_type": "display_data"
    },
    {
     "name": "stdout",
     "output_type": "stream",
     "text": [
      "\n"
     ]
    }
   ],
   "source": [
    "### Latent z optimization ###\n",
    "\n",
    "steps = 20000\n",
    "lmd = 0.0\n",
    "lr = 1e-1\n",
    "\n",
    "###\n",
    "\n",
    "test_sample = ood_x.to(device)\n",
    "test_magnitudes = calc_mags(test_sample)\n",
    "\n",
    "z = torch.zeros(*test_magnitudes.shape, dtype=test_magnitudes.dtype, device=device).to(device)\n",
    "out_prcgan = gen(torch.cat([z, test_magnitudes], dim=1)).cpu().detach().numpy()\n",
    "\n",
    "out_results, error = genopt(sample_magn=test_magnitudes, gen=gen,\n",
    "                                    device=device, steps=steps, lmd=lmd, lr=lr)"
   ]
  },
  {
   "cell_type": "code",
   "execution_count": 47,
   "metadata": {},
   "outputs": [
    {
     "data": {
      "image/png": "[encoded data removed]",
      "text/plain": [
       "<Figure size 432x288 with 1 Axes>"
      ]
     },
     "metadata": {},
     "output_type": "display_data"
    }
   ],
   "source": [
    "plt.xlabel(\"Iteration k\")\n",
    "plt.yscale('symlog')\n",
    "plt.ylabel(\"Error\")\n",
    "plt.plot(np.concatenate(error))\n",
    "plt.grid(which='major')\n",
    "plt.grid(which='minor')\n",
    "plt.show()"
   ]
  },
  {
   "cell_type": "code",
   "execution_count": 42,
   "metadata": {},
   "outputs": [
    {
     "data": {
      "image/png": "[encoded data removed]",
      "text/plain": [
       "<Figure size 432x288 with 1 Axes>"
      ]
     },
     "metadata": {},
     "output_type": "display_data"
    }
   ],
   "source": [
    "prcgagn_reg = register_croco(out_prcgan, ood_x.numpy())[0, 0]\n",
    "plot(prcgagn_reg)\n",
    "#save_array(prcgagn_reg, \"../out/ood/PRCGAN_{}.png\".format(name))"
   ]
  },
  {
   "cell_type": "code",
   "execution_count": 134,
   "metadata": {},
   "outputs": [
    {
     "name": "stdout",
     "output_type": "stream",
     "text": [
      "Signal error:\n",
      "  MSE: 0.045084577053785324, std: 0.0\n",
      "  MAE: 0.08697747439146042, std: 0.0\n",
      "  SSIM: -0.006674177139372506, std: 0.0\n",
      "  Sharpness: 0.11858339168613204, std: 0.0\n",
      "  PhCo-MSE: 0.03285229951143265, std: 0.0\n",
      "  PhCo-MAE: 0.06943946331739426, std: 0.0\n",
      "  PhCo-SSIM: 0.2816141408631426, std: 0.0\n",
      "  CroCo-MSE: 0.03275955095887184, std: 0.0\n",
      "  CroCo-MAE: 0.07045449316501617, std: 0.0\n",
      "  CroCo-SSIM: 0.23259667517318142, std: 0.0\n",
      "\n",
      "Magnitude error:\n",
      "  MSE Magnitude: 9.2093947577962, std: 0.0\n",
      "\n",
      "Image constraints:\n",
      "  Imag part = 0.0 - should be very close to 0\n",
      "  Real part is in [0.00, 0.90] - should be in [0, 1]\n",
      "\n",
      "Markdown table values:\n",
      " 0.04508 | 0.08698 | -0.006674 | 0.1186 | 0.03285 | 0.06944 | 0.2816 | 0.03276 | 0.07045 | 0.2326 | 9.209 |\n"
     ]
    }
   ],
   "source": [
    "# Benchmark test predictions #\n",
    "\n",
    "benchmark(pred=out_prcgan, true=ood_x, check_all=True)"
   ]
  },
  {
   "cell_type": "markdown",
   "metadata": {},
   "source": [
    "| Image | MSE | MAE | SSIM | SHRP | PhCo-MSE | PhCo-MAE | PhCo-SSIM | CroCo-MSE | CroCo-MAE | CroCo-SSIM | MSE Magn |\n",
    "| --- | --- | --- | --- | --- | --- | --- | --- | --- | --- | --- |\n",
    "| ood1 | 0.09158 | 0.1270 | 0.3418 | 0.1914 | 0.08055 | 0.1148 | 0.3984 | 0.08055 | 0.1148 | 0.3984 | 32.06 |\n",
    "| ood2 | 0.07913 | 0.1442 | 0.5772 | 0.2450 | 0.07508 | 0.1433 | 0.6317 | 0.07262 | 0.1392 | 0.6327 | 18.15 |\n",
    "| ood3 | 0.05630 | 0.1214 | 0.5215 | 0.1564 | 0.08111 | 0.1586 | 0.3080 | 0.05396 | 0.1203 | 0.5327 | 17.29 |\n",
    "| ood4 |  0.04508 | 0.08698 | -0.006674 | 0.1186 | 0.03285 | 0.06944 | 0.2816 | 0.03276 | 0.07045 | 0.2326 | 9.209 |\n",
    "\n",
    "Signal error:\n",
    "  MSE: 0.09158428013324738, std: 0.0\n",
    "  MAE: 0.12704087793827057, std: 0.0\n",
    "  SSIM: 0.3417771759587241, std: 0.0\n",
    "  Sharpness: 0.19137920755130375, std: 0.0\n",
    "  PhCo-MSE: 0.08054737746715546, std: 0.0\n",
    "  PhCo-MAE: 0.11476302891969681, std: 0.0\n",
    "  PhCo-SSIM: 0.3983675382502317, std: 0.0\n",
    "  CroCo-MSE: 0.08054737746715546, std: 0.0\n",
    "  CroCo-MAE: 0.11476302891969681, std: 0.0\n",
    "  CroCo-SSIM: 0.3983675382502317, std: 0.0\n",
    "\n",
    "Magnitude error:\n",
    "  MSE Magnitude: 32.06141858344275, std: 0.0\n",
    "\n",
    "Image constraints:\n",
    "  Imag part = 0.0 - should be very close to 0\n",
    "  Real part is in [0.00, 1.00] - should be in [0, 1]\n",
    "  \n",
    "---\n",
    "\n",
    "Signal error:\n",
    "  MSE: 0.07912658900022507, std: 0.0\n",
    "  MAE: 0.14415504038333893, std: 0.0\n",
    "  SSIM: 0.5772419136738425, std: 0.0\n",
    "  Sharpness: 0.24499511395505566, std: 0.0\n",
    "  PhCo-MSE: 0.07508289813995361, std: 0.0\n",
    "  PhCo-MAE: 0.1433252990245819, std: 0.0\n",
    "  PhCo-SSIM: 0.6316906438645042, std: 0.0\n",
    "  CroCo-MSE: 0.07261687517166138, std: 0.0\n",
    "  CroCo-MAE: 0.13921010494232178, std: 0.0\n",
    "  CroCo-SSIM: 0.6327277807571422, std: 0.0\n",
    "\n",
    "Magnitude error:\n",
    "  MSE Magnitude: 18.14830286229828, std: 0.0\n",
    "\n",
    "Image constraints:\n",
    "  Imag part = 0.0 - should be very close to 0\n",
    "  Real part is in [0.00, 1.00] - should be in [0, 1]\n",
    "\n",
    "---\n",
    "\n",
    "Signal error:\n",
    "  MSE: 0.05630173161625862, std: 0.0\n",
    "  MAE: 0.12144176661968231, std: 0.0\n",
    "  SSIM: 0.5215032806234714, std: 0.0\n",
    "  Sharpness: 0.15640147832142867, std: 0.0\n",
    "  PhCo-MSE: 0.08111244440078735, std: 0.0\n",
    "  PhCo-MAE: 0.15859831869602203, std: 0.0\n",
    "  PhCo-SSIM: 0.3080341669464391, std: 0.0\n",
    "  CroCo-MSE: 0.05396179109811783, std: 0.0\n",
    "  CroCo-MAE: 0.12031954526901245, std: 0.0\n",
    "  CroCo-SSIM: 0.5326721175853248, std: 0.0\n",
    "\n",
    "Magnitude error:\n",
    "  MSE Magnitude: 17.290702087269636, std: 0.0\n",
    "\n",
    "Image constraints:\n",
    "  Imag part = 0.0 - should be very close to 0\n",
    "  Real part is in [0.00, 1.00] - should be in [0, 1]\n",
    "  \n",
    "---\n",
    "\n",
    "Signal error:\n",
    "  MSE: 0.045084577053785324, std: 0.0\n",
    "  MAE: 0.08697747439146042, std: 0.0\n",
    "  SSIM: -0.006674177139372506, std: 0.0\n",
    "  Sharpness: 0.11858339168613204, std: 0.0\n",
    "  PhCo-MSE: 0.03285229951143265, std: 0.0\n",
    "  PhCo-MAE: 0.06943946331739426, std: 0.0\n",
    "  PhCo-SSIM: 0.2816141408631426, std: 0.0\n",
    "  CroCo-MSE: 0.03275955095887184, std: 0.0\n",
    "  CroCo-MAE: 0.07045449316501617, std: 0.0\n",
    "  CroCo-SSIM: 0.23259667517318142, std: 0.0\n",
    "\n",
    "Magnitude error:\n",
    "  MSE Magnitude: 9.2093947577962, std: 0.0\n",
    "\n",
    "Image constraints:\n",
    "  Imag part = 0.0 - should be very close to 0\n",
    "  Real part is in [0.00, 0.90] - should be in [0, 1]"
   ]
  },
  {
   "cell_type": "code",
   "execution_count": 48,
   "metadata": {},
   "outputs": [
    {
     "data": {
      "image/png": "[encoded data removed]",
      "text/plain": [
       "<Figure size 432x288 with 1 Axes>"
      ]
     },
     "metadata": {},
     "output_type": "display_data"
    }
   ],
   "source": [
    "out_reg = register_croco(out_results, ood_x.numpy())[0, 0]\n",
    "plot(out_reg)\n",
    "#save_array(out_reg, \"../out/ood/PRCGANstar_{}.png\".format(name))"
   ]
  },
  {
   "cell_type": "code",
   "execution_count": 49,
   "metadata": {},
   "outputs": [
    {
     "name": "stdout",
     "output_type": "stream",
     "text": [
      "Signal error:\n",
      "  MSE: 0.04986915737390518, std: 0.0\n",
      "  MAE: 0.09154187142848969, std: 0.0\n",
      "  SSIM: 0.031055653534716666, std: 0.0\n",
      "  Sharpness: 0.10804084272036908, std: 0.0\n",
      "  PhCo-MSE: 0.02642538584768772, std: 0.0\n",
      "  PhCo-MAE: 0.06128409504890442, std: 0.0\n",
      "  PhCo-SSIM: 0.4054515975246602, std: 0.0\n",
      "  CroCo-MSE: 0.02642538584768772, std: 0.0\n",
      "  CroCo-MAE: 0.06128409504890442, std: 0.0\n",
      "  CroCo-SSIM: 0.4054515975246602, std: 0.0\n",
      "\n",
      "Magnitude error:\n",
      "  MSE Magnitude: 1.7442256536763008, std: 0.0\n",
      "\n",
      "Image constraints:\n",
      "  Imag part = 0.0 - should be very close to 0\n",
      "  Real part is in [0.00, 1.00] - should be in [0, 1]\n",
      "\n",
      "Markdown table values:\n",
      " 0.04987 | 0.09154 | 0.03106 | 0.1080 | 0.02643 | 0.06128 | 0.4055 | 0.02643 | 0.06128 | 0.4055 | 1.744 |\n"
     ]
    }
   ],
   "source": [
    "# Benchmark test predictions #\n",
    "\n",
    "benchmark(pred=out_results, true=ood_x, check_all=True)"
   ]
  },
  {
   "cell_type": "markdown",
   "metadata": {},
   "source": [
    "### Results\n",
    "\n",
    "| Image | MSE | MAE | SSIM | SHRP | PhCo-MSE | PhCo-MAE | PhCo-SSIM | CroCo-MSE | CroCo-MAE | CroCo-SSIM | MSE Magn |\n",
    "| --- | --- | --- | --- | --- | --- | --- | --- | --- | --- | --- |\n",
    "| ood1 | 0.02770 | 0.05315 | 0.7710 | 0.004960 | 0.00004218 | 0.001765 | 0.9996 | 0.00004218 | 0.001765 | 0.9996 | 0.005852 |\n",
    "| ood2 | 0.02419 | 0.07750 | 0.8736 | 0.1487 | 0.03457 | 0.09206 | 0.8130 | 0.02419 | 0.07750 | 0.8736 | 0.4336 |\n",
    "| ood3 | 0.04484 | 0.1074 | 0.5207 | 0.1261 | 0.06887 | 0.1467 | 0.3723 | 0.03361 | 0.08982 | 0.6314 | 2.414 |\n",
    "| ood4 | 0.04934 | 0.09020 | 0.05541 | 0.1093 | 0.02609 | 0.06047 | 0.4318 | 0.02609 | 0.06047 | 0.4318 | 1.864 |\n",
    "\n",
    "\n",
    "Signal error:\n",
    "  MSE: 0.027697743847966194, std: 0.0\n",
    "  MAE: 0.05315403640270233, std: 0.0\n",
    "  SSIM: 0.7710268015092463, std: 0.0\n",
    "  Sharpness: 0.004959979565729783, std: 0.0\n",
    "  PhCo-MSE: 4.2183772166026756e-05, std: 0.0\n",
    "  PhCo-MAE: 0.0017646298510953784, std: 0.0\n",
    "  PhCo-SSIM: 0.9995681978333341, std: 0.0\n",
    "  CroCo-MSE: 4.2183772166026756e-05, std: 0.0\n",
    "  CroCo-MAE: 0.0017646298510953784, std: 0.0\n",
    "  CroCo-SSIM: 0.9995681978333341, std: 0.0\n",
    "\n",
    "Magnitude error:\n",
    "  MSE Magnitude: 0.005852027203089378, std: 0.0\n",
    "\n",
    "Image constraints:\n",
    "  Imag part = 0.0 - should be very close to 0\n",
    "  Real part is in [0.00, 1.00] - should be in [0, 1]\n",
    "\n",
    "---\n",
    "\n",
    "  Signal error:\n",
    "  MSE: 0.024187613278627396, std: 0.0\n",
    "  MAE: 0.07749766856431961, std: 0.0\n",
    "  SSIM: 0.8735559622970296, std: 0.0\n",
    "  Sharpness: 0.1487014282076018, std: 0.0\n",
    "  PhCo-MSE: 0.03456888720393181, std: 0.0\n",
    "  PhCo-MAE: 0.09205664694309235, std: 0.0\n",
    "  PhCo-SSIM: 0.8130491524050628, std: 0.0\n",
    "  CroCo-MSE: 0.024187613278627396, std: 0.0\n",
    "  CroCo-MAE: 0.07749766856431961, std: 0.0\n",
    "  CroCo-SSIM: 0.8735559622970296, std: 0.0\n",
    "\n",
    "Magnitude error:\n",
    "  MSE Magnitude: 0.43362352480209276, std: 0.0\n",
    "\n",
    "Image constraints:\n",
    "  Imag part = 0.0 - should be very close to 0\n",
    "  Real part is in [0.00, 1.00] - should be in [0, 1]\n",
    "  \n",
    "---\n",
    "\n",
    "Signal error:\n",
    "  MSE: 0.04484163597226143, std: 0.0\n",
    "  MAE: 0.1074015200138092, std: 0.0\n",
    "  SSIM: 0.5206979924800422, std: 0.0\n",
    "  Sharpness: 0.1260864548932636, std: 0.0\n",
    "  PhCo-MSE: 0.06886935234069824, std: 0.0\n",
    "  PhCo-MAE: 0.14671902358531952, std: 0.0\n",
    "  PhCo-SSIM: 0.3723139753063939, std: 0.0\n",
    "  CroCo-MSE: 0.03361382335424423, std: 0.0\n",
    "  CroCo-MAE: 0.08982023596763611, std: 0.0\n",
    "  CroCo-SSIM: 0.6313522289718954, std: 0.0\n",
    "\n",
    "Magnitude error:\n",
    "  MSE Magnitude: 2.413656301347703, std: 0.0\n",
    "\n",
    "Image constraints:\n",
    "  Imag part = 0.0 - should be very close to 0\n",
    "  Real part is in [0.00, 0.98] - should be in [0, 1]\n",
    "\n",
    "---\n",
    "\n",
    "Signal error:\n",
    "  MSE: 0.04934088885784149, std: 0.0\n",
    "  MAE: 0.09019559621810913, std: 0.0\n",
    "  SSIM: 0.05540975593995, std: 0.0\n",
    "  Sharpness: 0.1093139537477712, std: 0.0\n",
    "  PhCo-MSE: 0.026087353006005287, std: 0.0\n",
    "  PhCo-MAE: 0.060470100492239, std: 0.0\n",
    "  PhCo-SSIM: 0.43175640745445765, std: 0.0\n",
    "  CroCo-MSE: 0.026087353006005287, std: 0.0\n",
    "  CroCo-MAE: 0.060470100492239, std: 0.0\n",
    "  CroCo-SSIM: 0.43175640745445765, std: 0.0\n",
    "\n",
    "Magnitude error:\n",
    "  MSE Magnitude: 1.8636795783463138, std: 0.0\n",
    "\n",
    "Image constraints:\n",
    "  Imag part = 0.0 - should be very close to 0\n",
    "  Real part is in [0.00, 1.00] - should be in [0, 1]"
   ]
  },
  {
   "cell_type": "code",
   "execution_count": null,
   "metadata": {},
   "outputs": [],
   "source": []
  }
 ],
 "metadata": {
  "kernelspec": {
   "display_name": "Python 3",
   "language": "python",
   "name": "python3"
  },
  "language_info": {
   "codemirror_mode": {
    "name": "ipython",
    "version": 3
   },
   "file_extension": ".py",
   "mimetype": "text/x-python",
   "name": "python",
   "nbconvert_exporter": "python",
   "pygments_lexer": "ipython3",
   "version": "3.6.9"
  }
 },
 "nbformat": 4,
 "nbformat_minor": 2
}
