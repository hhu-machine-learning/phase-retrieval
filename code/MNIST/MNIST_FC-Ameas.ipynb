{
 "cells": [
  {
   "cell_type": "code",
   "execution_count": null,
   "metadata": {
    "colab": {
     "base_uri": "https://localhost:8080/",
     "height": 73
    },
    "colab_type": "code",
    "executionInfo": {
     "elapsed": 1061,
     "status": "ok",
     "timestamp": 1565710832016,
     "user": {
      "displayName": "Alexander O",
      "photoUrl": "",
      "userId": "17587363869210561491"
     },
     "user_tz": -120
    },
    "id": "zunffh_Ux16z",
    "outputId": "c9728259-e587-44a2-82bc-9b31003be84d"
   },
   "outputs": [],
   "source": [
    " ### Prepare module structure ###\n",
    "\n",
    "import sys\n",
    "sys.path.append(\"../\")"
   ]
  },
  {
   "cell_type": "code",
   "execution_count": null,
   "metadata": {
    "colab": {
     "base_uri": "https://localhost:8080/",
     "height": 35
    },
    "colab_type": "code",
    "executionInfo": {
     "elapsed": 2025,
     "status": "ok",
     "timestamp": 1565710836610,
     "user": {
      "displayName": "Alexander O",
      "photoUrl": "",
      "userId": "17587363869210561491"
     },
     "user_tz": -120
    },
    "id": "fDx-c-sbx17G",
    "outputId": "ad57f48a-8575-4d3f-dbe4-f3d60e1a838a"
   },
   "outputs": [],
   "source": [
    "### IMPORT ###\n",
    "\n",
    "import numpy as np\n",
    "import math\n",
    "import pandas as pd\n",
    "\n",
    "import torch\n",
    "import torch.nn as nn\n",
    "import torch.optim as optim\n",
    "\n",
    "import time\n",
    "from tqdm import tqdm_notebook\n",
    "\n",
    "import matplotlib.pyplot as plt\n",
    "%matplotlib inline\n",
    "\n",
    "from util import *\n",
    "from data import *\n",
    "import models\n",
    "\n",
    "import pickle\n",
    "\n",
    "# auto reload imports on local changes\n",
    "%load_ext autoreload\n",
    "%autoreload 2\n",
    "print(torch.__version__)"
   ]
  },
  {
   "cell_type": "code",
   "execution_count": null,
   "metadata": {
    "colab": {
     "base_uri": "https://localhost:8080/",
     "height": 35
    },
    "colab_type": "code",
    "executionInfo": {
     "elapsed": 934,
     "status": "ok",
     "timestamp": 1565710846642,
     "user": {
      "displayName": "Alexander O",
      "photoUrl": "",
      "userId": "17587363869210561491"
     },
     "user_tz": -120
    },
    "id": "wGKWfmYGx17W",
    "outputId": "57ce0b1c-a615-4791-9e5c-6ddd8e0c945b"
   },
   "outputs": [],
   "source": [
    "### Check device ###\n",
    "\n",
    "USE_GPU = True\n",
    "\n",
    "dtype = torch.float32\n",
    "\n",
    "if USE_GPU and torch.cuda.is_available():\n",
    "    # TODO: Change to CPU used!\n",
    "    device = torch.device('cuda:1')\n",
    "else:\n",
    "    device = torch.device('cpu')\n",
    "\n",
    "print('using device:', device)"
   ]
  },
  {
   "cell_type": "code",
   "execution_count": null,
   "metadata": {
    "colab": {
     "base_uri": "https://localhost:8080/",
     "height": 375
    },
    "colab_type": "code",
    "executionInfo": {
     "elapsed": 3131,
     "status": "ok",
     "timestamp": 1565711041734,
     "user": {
      "displayName": "Alexander O",
      "photoUrl": "",
      "userId": "17587363869210561491"
     },
     "user_tz": -120
    },
    "id": "lRhDN2TAx17k",
    "outputId": "036a9a79-c812-4bef-db49-fab76b3990e9",
    "scrolled": false
   },
   "outputs": [],
   "source": [
    "### LOAD DATA ###\n",
    "dataset = 'mnist'\n",
    "dataloader, imsize = load(dataset, path='/home/shared/phase-retrieval/data/' + dataset, batch_size=32)\n",
    "\n",
    "sample = next(iter(dataloader['train']))\n",
    "plot_grid(sample)\n",
    "print(sample.shape)\n",
    "sample_ft =  torch.rfft(sample, 2, onesided=False)\n",
    "sample_magnitudes = torch.sqrt(torch.sum(sample_ft**2, -1))"
   ]
  },
  {
   "cell_type": "code",
   "execution_count": null,
   "metadata": {
    "colab": {},
    "colab_type": "code",
    "id": "fSFjQ_gtx18j"
   },
   "outputs": [],
   "source": [
    "def calc_meas(x):\n",
    "    m = A.shape[1]\n",
    "    n = x.shape[-1] * x.shape[-2]\n",
    "    assert(m <= n)\n",
    "    N = x.shape[0]\n",
    "    C = x.shape[1]\n",
    "    compressed = (x.view(N, C, -1) @ A).view(N, C, m)\n",
    "    compressed = torch.abs(compressed)\n",
    "\n",
    "    compr_pad = nn.functional.pad(compressed, (0, n - m), mode='constant', value=0).reshape(x.shape)\n",
    "    \n",
    "    return compressed, compr_pad\n",
    "\n",
    "# Function to compute test images\n",
    "\n",
    "def test_generator(model, device, testloader):\n",
    "    # put model to eval mode\n",
    "    model = model.to(device=device)\n",
    "    model.eval()\n",
    "\n",
    "    # move test images to device and reduce to magnitude information in fourier space\n",
    "    test_images = []\n",
    "    outputs = []\n",
    "    \n",
    "    for data in testloader:\n",
    "        z = torch.randn(*data.shape).to(device)\n",
    "        data = data.to(device=device)\n",
    "        _, meas_pad = calc_meas(data)\n",
    "        ouput = model(meas_pad)\n",
    "\n",
    "        test_images.append(data.cpu().numpy())\n",
    "        outputs.append(ouput.cpu().detach().numpy())\n",
    "    \n",
    "    return np.concatenate(test_images), np.concatenate(outputs)"
   ]
  },
  {
   "cell_type": "code",
   "execution_count": null,
   "metadata": {
    "colab": {},
    "colab_type": "code",
    "id": "DfNu_ce9tU0x"
   },
   "outputs": [],
   "source": [
    "# Define loss\n",
    "\n",
    "def gen_loss(gen_output, x):\n",
    "    return  torch.mean(torch.abs(gen_output - x))"
   ]
  },
  {
   "cell_type": "code",
   "execution_count": null,
   "metadata": {},
   "outputs": [],
   "source": [
    "m = 25 # 10, 25, 50, 100, 200, 300, 500, 784\n",
    "\n",
    "import pickle\n",
    "\n",
    "#A = (torch.randn(imsize[1] * imsize[2], m) / m).to(device)\n",
    "#pickle.dump(A, open(\"../cache/A/A{}.p\".format(m), \"wb\"))\n",
    "\n",
    "A = pickle.load(open(\"../cache/A/A{}.p\".format(m), \"rb\")).to(device)\n",
    "\n",
    "print(A.shape)"
   ]
  },
  {
   "cell_type": "code",
   "execution_count": null,
   "metadata": {},
   "outputs": [],
   "source": [
    "### Create new models ###\n",
    "\n",
    "gen = models.FCNet(imsize=imsize, h=2048)"
   ]
  },
  {
   "cell_type": "code",
   "execution_count": null,
   "metadata": {},
   "outputs": [],
   "source": [
    "# Set training parameters\n",
    "\n",
    "opt = optim.Adam(gen.parameters(), lr=1e-3)"
   ]
  },
  {
   "cell_type": "code",
   "execution_count": null,
   "metadata": {},
   "outputs": [],
   "source": [
    "# Initial loss\n",
    "\n",
    "gen = gen.to(device)\n",
    "sample = sample.to(device)\n",
    "sample_magnitudes = sample_magnitudes.to(device)\n",
    "\n",
    "gen_out = gen(sample_magnitudes)\n",
    "\n",
    "loss = gen_loss(gen_out, sample)\n",
    "\n",
    "print(\"Generator loss:\", loss.item())"
   ]
  },
  {
   "cell_type": "code",
   "execution_count": null,
   "metadata": {},
   "outputs": [],
   "source": [
    "# Train function (short)\n",
    "def train_model(gen, opt, device, loader_train, epochs=1):\n",
    "    gen = gen.to(device=device)\n",
    "    \n",
    "    history = []\n",
    "    \n",
    "    for e in range(epochs):\n",
    "        for t, x in enumerate(loader_train):\n",
    "            gen.train()\n",
    "            \n",
    "            x = x.to(device=device)\n",
    "            _, meas_pad = calc_meas(x)\n",
    "            \n",
    "            loss = gen_loss(gen(meas_pad), x)\n",
    "            opt.zero_grad()\n",
    "            loss.backward()\n",
    "            opt.step()\n",
    "            \n",
    "            history.append(loss.item())\n",
    "\n",
    "            if t % 100 == 0:\n",
    "                print(\"epoch: {:2} \\t step:{} \\t loss: {:3.4}\".format(e+1, t, history[-1]))  \n",
    "\n",
    "    return history"
   ]
  },
  {
   "cell_type": "code",
   "execution_count": null,
   "metadata": {
    "scrolled": true
   },
   "outputs": [],
   "source": [
    "### TRAIN MODEL ###\n",
    "\n",
    "num_epochs = 1\n",
    "\n",
    "train_model(gen, opt, device, dataloader['train'], epochs=num_epochs)\n",
    "\n",
    "gen_weights = gen.state_dict().copy()\n",
    "\n",
    "torch.save(gen_weights, \"../cache/e2e/Ameas{1}FCNet2048MNIST_{0:04d}.sd\".format(num_epochs, m))"
   ]
  },
  {
   "cell_type": "code",
   "execution_count": null,
   "metadata": {},
   "outputs": [
    {
     "name": "stdout",
     "output_type": "stream",
     "text": [
      "Version 0.4\n",
      "epoch:  1 \t step:0 \t loss: 0.4723\n",
      "epoch:  1 \t step:100 \t loss: 0.1102\n",
      "epoch:  1 \t step:200 \t loss: 0.1256\n",
      "epoch:  1 \t step:300 \t loss: 0.1112\n",
      "epoch:  1 \t step:400 \t loss: 0.1107\n",
      "epoch:  1 \t step:500 \t loss: 0.1084\n",
      "epoch:  1 \t step:600 \t loss: 0.1075\n"
     ]
    }
   ],
   "source": [
    "### TRAIN MODEL - BIG LOOP ###\n",
    "\n",
    "num_epochs = 100\n",
    "\n",
    "for m in [10, 25, 50, 100, 200, 300, 500, 784]:\n",
    "\n",
    "    A = pickle.load(open(\"../cache/A/A{}.p\".format(m), \"rb\")).to(device)\n",
    "\n",
    "    gen = models.FCNet(imsize=imsize, h=2048)\n",
    "    \n",
    "    opt = optim.Adam(gen.parameters(), lr=1e-3)\n",
    "\n",
    "    train_model(gen, opt, device, dataloader['train'], epochs=num_epochs)\n",
    "\n",
    "    gen_weights = gen.state_dict().copy()\n",
    "\n",
    "    torch.save(gen_weights, \"../cache/e2e/Ameas{1}FCNet2048MNIST_{0:04d}.sd\".format(num_epochs, m))"
   ]
  },
  {
   "cell_type": "code",
   "execution_count": 79,
   "metadata": {},
   "outputs": [
    {
     "name": "stdout",
     "output_type": "stream",
     "text": [
      "torch.Size([784, 784])\n",
      "Version 0.4\n"
     ]
    }
   ],
   "source": [
    "### LOAD MODEL ####\n",
    "\n",
    "m = 784\n",
    "num_epochs = 100\n",
    "\n",
    "A = pickle.load(open(\"../cache/A/A{}.p\".format(m), \"rb\")).to(device)\n",
    "print(A.shape)\n",
    "\n",
    "gen = models.FCNet(imsize=imsize, h=2048)\n",
    "\n",
    "# TODO: map storage location to correct GPU!\n",
    "gen.load_state_dict(torch.load(\"../cache/e2e/Ameas{1}FCNet2048MNIST_{0:04d}.sd\".format(num_epochs, m), map_location={'cuda:1': device.__str__()}));\n",
    "gen.eval();"
   ]
  },
  {
   "cell_type": "code",
   "execution_count": 80,
   "metadata": {
    "colab": {
     "base_uri": "https://localhost:8080/",
     "height": 35
    },
    "colab_type": "code",
    "executionInfo": {
     "elapsed": 342015,
     "status": "ok",
     "timestamp": 1565737561381,
     "user": {
      "displayName": "Alexander O",
      "photoUrl": "",
      "userId": "17587363869210561491"
     },
     "user_tz": -120
    },
    "id": "_VdowPCix183",
    "outputId": "b36fc816-8058-433b-d020-1e5d11cb48c5"
   },
   "outputs": [
    {
     "name": "stdout",
     "output_type": "stream",
     "text": [
      "(8000, 1, 28, 28)\n"
     ]
    }
   ],
   "source": [
    "# Calculate test predictions #\n",
    "\n",
    "test_images, test_outputs = test_generator(gen, device, dataloader['test'])\n",
    "print(test_images.shape)"
   ]
  },
  {
   "cell_type": "code",
   "execution_count": 81,
   "metadata": {},
   "outputs": [],
   "source": [
    "### CACHE RESULTS ###\n",
    "\n",
    "import pickle\n",
    "pickle.dump(test_images, open(\"/home/shared/phase-retrieval/test/FCnet_MNIST/Ameas{}_e2e_6_1024_original.p\".format(m), \"wb\"))\n",
    "pickle.dump(test_outputs, open(\"/home/shared/phase-retrieval/test/FCnet_MNIST/Ameas{}_e2e_6_1024.p\".format(m), \"wb\"))"
   ]
  },
  {
   "cell_type": "code",
   "execution_count": 82,
   "metadata": {},
   "outputs": [],
   "source": [
    "### LOAD RESULTS ###\n",
    "import pickle\n",
    "\n",
    "test_images = pickle.load(open(\"/home/shared/phase-retrieval/test/FCnet_MNIST/Ameas{}_e2e_6_1024_original.p\".format(m), \"rb\"))\n",
    "test_outputs = pickle.load(open(\"/home/shared/phase-retrieval/test/FCnet_MNIST/Ameas{}_e2e_6_1024.p\".format(m), \"rb\"))"
   ]
  },
  {
   "cell_type": "code",
   "execution_count": 83,
   "metadata": {
    "colab": {
     "base_uri": "https://localhost:8080/",
     "height": 466
    },
    "colab_type": "code",
    "executionInfo": {
     "elapsed": 357313,
     "status": "ok",
     "timestamp": 1565737577799,
     "user": {
      "displayName": "Alexander O",
      "photoUrl": "",
      "userId": "17587363869210561491"
     },
     "user_tz": -120
    },
    "id": "SX76psqskaoQ",
    "outputId": "1e65e8fc-3105-452a-9494-b52873b91b2a"
   },
   "outputs": [
    {
     "name": "stderr",
     "output_type": "stream",
     "text": [
      "Clipping input data to the valid range for imshow with RGB data ([0..1] for floats or [0..255] for integers).\n"
     ]
    },
    {
     "data": {
      "image/png": "[encoded data removed]",
      "text/plain": [
       "<Figure size 576x576 with 1 Axes>"
      ]
     },
     "metadata": {},
     "output_type": "display_data"
    }
   ],
   "source": [
    "# Print test predictions 2 #\n",
    "\n",
    "to_plot = np.stack([test_images[:32, 0].reshape(4, 8, 28, 28), \n",
    "                    test_outputs[:32, 0].reshape(4, 8, 28, 28)], axis=1).reshape(-1, 1, 28, 28)\n",
    "                \n",
    "plot_grid(to_plot, figsize=(8,8), file=\"../out/e2e/mnist/Ameas{}_6_1024.png\".format(m))\n",
    "#plot_grid(to_plot, figsize=(8,8))\n",
    "\n",
    "#plot_grid(torch.Tensor(np.stack([test_images[:32, 0].reshape(4, 8, 28, 28), test_outputs[:32, 0].reshape(4, 8, 28, 28)], axis=1).reshape(-1, 1, 28, 28)),\n",
    "#          file='/home/shared/phase-retrieval/out/cgan/'+dataset+'/cgan{0}.pdf'.format(time.strftime(\"%Y%m%d_%H%M%S\")))"
   ]
  },
  {
   "cell_type": "code",
   "execution_count": 84,
   "metadata": {
    "colab": {
     "base_uri": "https://localhost:8080/",
     "height": 217
    },
    "colab_type": "code",
    "executionInfo": {
     "elapsed": 354433,
     "status": "ok",
     "timestamp": 1565737574255,
     "user": {
      "displayName": "Alexander O",
      "photoUrl": "",
      "userId": "17587363869210561491"
     },
     "user_tz": -120
    },
    "id": "rLyR3FAdHd6w",
    "outputId": "a7868556-554a-450f-eeea-51638c51df26"
   },
   "outputs": [
    {
     "name": "stdout",
     "output_type": "stream",
     "text": [
      "Signal error:\n",
      "  MSE: 0.0065512887945260445, std: 0.005719570283165434\n",
      "  MAE: 0.02003528630348228, std: 0.008949239868018929\n",
      "  SSIM: 0.9432037738032379, std: 0.04179414587482828\n",
      "  Sharpness: 0.05325729095071094, std: 0.019765983143833946\n",
      "  PhCo-MSE: 0.0065722280533009325, std: 0.005796348888875825\n",
      "  PhCo-MAE: 0.020069960328783054, std: 0.009053772254600148\n",
      "  PhCo-SSIM: 0.9429748814521584, std: 0.04265781566745166\n",
      "  CroCo-MSE: 0.0065512887945260445, std: 0.005719570283165434\n",
      "  CroCo-MAE: 0.02003528630348228, std: 0.008949239868018929\n",
      "  CroCo-SSIM: 0.9432037738032379, std: 0.04179414587482828\n",
      "\n",
      "Magnitude error:\n",
      "  MSE Magnitude: 2.2394212979050616, std: 1.9854580553499424\n",
      "\n",
      "Image constraints:\n",
      "  Imag part = 0.0 - should be very close to 0\n",
      "  Real part is in [0.00, 1.00] - should be in [0, 1]\n",
      "\n",
      "Markdown table values:\n",
      " 0.006551 | 0.02004 | 0.9432 | 0.05326 | 0.006572 | 0.02007 | 0.9430 | 0.006551 | 0.02004 | 0.9432 | 2.239 |\n"
     ]
    }
   ],
   "source": [
    "# Benchmark test predictions #\n",
    "\n",
    "benchmark(pred=test_outputs[:1024], true=test_images[:1024], check_all=True)"
   ]
  },
  {
   "cell_type": "markdown",
   "metadata": {},
   "source": [
    "## Evaluation for different E2E models (1024 samples)\n",
    "\n",
    "\n",
    "| Nr Type | epochs | m | MSE | MAE | SSIM | FASI-MSE | FASI-MAE | COCO-MSE | MSE Magnitude\n",
    "| --- | --- | --- | --- | --- | --- | --- | --- | --- |\n",
    "| 4 | 100 | 784 | 0.006551 | 0.02004 | 0.9432 | 0.05326 | 0.006572 | 0.02007 | 0.9430 | 0.006551 | 0.02004 | 0.9432 | 2.239 |\n",
    "| 4 | 100 | 500 | 0.007027 | 0.02111 | 0.9380 | 0.05549 | 0.007027 | 0.02111 | 0.9380 | 0.007027 | 0.02111 | 0.9380 | 2.392 |\n",
    "| 4 | 100 | 300 | 0.007873 | 0.02317 | 0.9294 | 0.05961 | 0.007887 | 0.02320 | 0.9293 | 0.007873 | 0.02317 | 0.9294 | 2.651 |\n",
    "| 4 | 100 | 200 | 0.009301 | 0.02555 | 0.9159 | 0.06465 | 0.009533 | 0.02582 | 0.9144 | 0.009265 | 0.02552 | 0.9162 | 3.141 |\n",
    "| 4 | 100 | 100 | 0.01216 | 0.03078 | 0.8869 | 0.07385 | 0.01241 | 0.03109 | 0.8849 | 0.01214 | 0.03076 | 0.8870 | 3.996 |\n",
    "| 4 | 100 | 50 | 0.02070 | 0.04415 | 0.8090 | 0.09379 | 0.02330 | 0.04703 | 0.7941 | 0.02049 | 0.04392 | 0.8105 | 6.666 |\n",
    "| 4 | 100 | 25 | 0.03804 | 0.06606 | 0.6791 | 0.1195 | 0.04527 | 0.07384 | 0.6506 | 0.03608 | 0.06389 | 0.6925 | 11.41 |\n",
    "| 4 | 100 | 10 | 0.07744 | 0.1072 | 0.4541 | 0.1493 | 0.08662 | 0.1167 | 0.4427 | 0.06661 | 0.09577 | 0.5147 | 21.46 |"
   ]
  },
  {
   "cell_type": "code",
   "execution_count": null,
   "metadata": {},
   "outputs": [],
   "source": []
  }
 ],
 "metadata": {
  "accelerator": "GPU",
  "colab": {
   "collapsed_sections": [],
   "name": "MNIST_cGAN2.ipynb",
   "provenance": [],
   "version": "0.3.2"
  },
  "kernelspec": {
   "display_name": "Python 3",
   "language": "python",
   "name": "python3"
  },
  "language_info": {
   "codemirror_mode": {
    "name": "ipython",
    "version": 3
   },
   "file_extension": ".py",
   "mimetype": "text/x-python",
   "name": "python",
   "nbconvert_exporter": "python",
   "pygments_lexer": "ipython3",
   "version": "3.6.8"
  }
 },
 "nbformat": 4,
 "nbformat_minor": 1
}
