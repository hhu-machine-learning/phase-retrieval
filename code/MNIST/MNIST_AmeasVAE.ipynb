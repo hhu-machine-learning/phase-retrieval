{
 "cells": [
  {
   "cell_type": "code",
   "execution_count": 1,
   "metadata": {
    "colab": {
     "base_uri": "https://localhost:8080/",
     "height": 73
    },
    "colab_type": "code",
    "executionInfo": {
     "elapsed": 1418,
     "status": "ok",
     "timestamp": 1565733008126,
     "user": {
      "displayName": "Alexander O",
      "photoUrl": "",
      "userId": "17587363869210561491"
     },
     "user_tz": -120
    },
    "id": "I-NFNUem6IoR",
    "outputId": "e6442afd-b81b-4c1f-f8b3-732be6701b1e"
   },
   "outputs": [],
   "source": [
    "### Prepare module structure ###\n",
    "\n",
    "import sys\n",
    "sys.path.append('../')"
   ]
  },
  {
   "cell_type": "code",
   "execution_count": 2,
   "metadata": {
    "colab": {
     "base_uri": "https://localhost:8080/",
     "height": 35
    },
    "colab_type": "code",
    "executionInfo": {
     "elapsed": 1582,
     "status": "ok",
     "timestamp": 1565733031085,
     "user": {
      "displayName": "Alexander O",
      "photoUrl": "",
      "userId": "17587363869210561491"
     },
     "user_tz": -120
    },
    "id": "WX8KTy6t6wkP",
    "outputId": "51651000-9068-4939-8a18-7b8b34e2fbde"
   },
   "outputs": [
    {
     "name": "stdout",
     "output_type": "stream",
     "text": [
      "1.0.0\n"
     ]
    }
   ],
   "source": [
    "### IMPORT ###\n",
    "\n",
    "import numpy as np\n",
    "import math\n",
    "import pandas as pd\n",
    "\n",
    "import torch\n",
    "import torch.nn as nn\n",
    "import torch.optim as optim\n",
    "\n",
    "import time\n",
    "\n",
    "import matplotlib.pyplot as plt\n",
    "%matplotlib inline\n",
    "\n",
    "from util import *\n",
    "from data import *\n",
    "import models\n",
    "\n",
    "# auto reload imports on local changes\n",
    "%load_ext autoreload\n",
    "%autoreload 2\n",
    "print(torch.__version__)"
   ]
  },
  {
   "cell_type": "code",
   "execution_count": 3,
   "metadata": {
    "colab": {
     "base_uri": "https://localhost:8080/",
     "height": 35
    },
    "colab_type": "code",
    "executionInfo": {
     "elapsed": 1328,
     "status": "ok",
     "timestamp": 1565733031087,
     "user": {
      "displayName": "Alexander O",
      "photoUrl": "",
      "userId": "17587363869210561491"
     },
     "user_tz": -120
    },
    "id": "f_u5l2mj8H0J",
    "outputId": "89f7323b-a788-4a3e-99e3-7f407f14aa24"
   },
   "outputs": [
    {
     "name": "stdout",
     "output_type": "stream",
     "text": [
      "using device: cuda:1\n"
     ]
    }
   ],
   "source": [
    "### Check device ###\n",
    "\n",
    "USE_GPU = True\n",
    "\n",
    "dtype = torch.float32\n",
    "\n",
    "if USE_GPU and torch.cuda.is_available():\n",
    "    # TODO: Change to CPU used!\n",
    "    device = torch.device('cuda:1')\n",
    "else:\n",
    "    device = torch.device('cpu')\n",
    "\n",
    "print('using device:', device)"
   ]
  },
  {
   "cell_type": "code",
   "execution_count": 17,
   "metadata": {
    "colab": {
     "base_uri": "https://localhost:8080/",
     "height": 375
    },
    "colab_type": "code",
    "executionInfo": {
     "elapsed": 3897,
     "status": "ok",
     "timestamp": 1565733037473,
     "user": {
      "displayName": "Alexander O",
      "photoUrl": "",
      "userId": "17587363869210561491"
     },
     "user_tz": -120
    },
    "id": "HUuXLBNa8TB8",
    "outputId": "76bc82d0-2aa9-4e7b-e367-cf7eacb59fed"
   },
   "outputs": [
    {
     "name": "stderr",
     "output_type": "stream",
     "text": [
      "Clipping input data to the valid range for imshow with RGB data ([0..1] for floats or [0..255] for integers).\n"
     ]
    },
    {
     "data": {
      "image/png": "[encoded data removed]",
      "text/plain": [
       "<Figure size 432x288 with 1 Axes>"
      ]
     },
     "metadata": {},
     "output_type": "display_data"
    },
    {
     "name": "stdout",
     "output_type": "stream",
     "text": [
      "torch.Size([10, 1, 28, 28])\n"
     ]
    }
   ],
   "source": [
    "### LOAD DATA ###\n",
    "dataset = 'mnist'\n",
    "dataloader, imsize = load(dataset, path='/home/shared/phase-retrieval/data/' + dataset, batch_size=10)\n",
    "\n",
    "sample = next(iter(dataloader['train']))\n",
    "plot_grid(sample)\n",
    "print(sample.shape)\n",
    "sample_ft =  torch.rfft(sample, 2, onesided=False)\n",
    "sample_magnitudes = torch.sqrt(torch.sum(sample_ft**2, -1))"
   ]
  },
  {
   "cell_type": "code",
   "execution_count": 10,
   "metadata": {
    "colab": {
     "base_uri": "https://localhost:8080/",
     "height": 35
    },
    "colab_type": "code",
    "executionInfo": {
     "elapsed": 6005,
     "status": "ok",
     "timestamp": 1565733052957,
     "user": {
      "displayName": "Alexander O",
      "photoUrl": "",
      "userId": "17587363869210561491"
     },
     "user_tz": -120
    },
    "id": "p9E4YkdYZW9x",
    "outputId": "e0138c6d-f61d-432b-f8dc-704666ebfcfb"
   },
   "outputs": [
    {
     "name": "stdout",
     "output_type": "stream",
     "text": [
      "Version 4\n"
     ]
    }
   ],
   "source": [
    "### LOAD MODEL ###\n",
    "\n",
    "latent_dim = 20\n",
    "hidden_dim = 500\n",
    "\n",
    "vae = models.SignalVAE(shape=imsize, latent_dim=latent_dim, hidden_dim=hidden_dim)\n",
    "vae.load_state_dict(torch.load(\"/home/shared/phase-retrieval/models/VAE_MNIST/FC-VAE20Mnist_2.sd\",\n",
    "                              map_location={'cuda:0': device.__str__()}));"
   ]
  },
  {
   "cell_type": "code",
   "execution_count": 11,
   "metadata": {
    "colab": {},
    "colab_type": "code",
    "id": "KN_90c9ybgFV"
   },
   "outputs": [],
   "source": [
    "### Hand Paper (adapted) ###\n",
    "\n",
    "def calc_meas(x):\n",
    "    m = A.shape[1]\n",
    "    N = x.shape[0]\n",
    "    C = x.shape[1]\n",
    "    compressed = (x.view(N, C, -1) @ A).view(N, C, m)\n",
    "    return torch.abs(compressed)\n",
    "\n",
    "def vaeopt(sample_magnitudes, vae, device, measurement_fn=calc_meas,\n",
    "           z_shape=(20, 1, 1), init_x=None, optim_lr=1e-1, max_steps=5000, max_loss=0.0):\n",
    "    \n",
    "    vae.to(device)\n",
    "    vae.eval()\n",
    "    \n",
    "    N = sample_magnitudes.shape[0]\n",
    "    \n",
    "    if init_x is None:\n",
    "        z = torch.randn((N, *z_shape), requires_grad=True, device=device)\n",
    "    else:\n",
    "        z = vae.encoder(init_x)[0].clone().detach().requires_grad_(True)\n",
    "        \n",
    "    optimizer = optim.Adam([z], lr=optim_lr)\n",
    "    \n",
    "    losses = []\n",
    "    last_out = vae.decoder(z)\n",
    "    \n",
    "    for i in range(max_steps):\n",
    " \n",
    "        magnitudes = measurement_fn(last_out)\n",
    "        mse_all = torch.mean((magnitudes - sample_magnitudes) ** 2, dim=tuple(np.arange(len(magnitudes.shape))[1:]))\n",
    "        loss = torch.sum(mse_all)\n",
    "        \n",
    "        if loss < max_loss:\n",
    "            break\n",
    "   \n",
    "        optimizer.zero_grad()\n",
    "        loss.backward()\n",
    "        optimizer.step()\n",
    "        \n",
    "        last_out = vae.decoder(z)\n",
    "\n",
    "        losses.append(loss.detach().cpu().item())\n",
    "        \n",
    "    return last_out.detach(), losses, mse_all"
   ]
  },
  {
   "cell_type": "code",
   "execution_count": 21,
   "metadata": {},
   "outputs": [
    {
     "name": "stdout",
     "output_type": "stream",
     "text": [
      "torch.Size([784, 50])\n"
     ]
    }
   ],
   "source": [
    "m = 50 # 25, 50, 100, 200, 300, 500, 784\n",
    "\n",
    "import pickle\n",
    "\n",
    "#A = (torch.randn(imsize[1] * imsize[2], m) / m).to(device)\n",
    "#pickle.dump(A, open(\"../cache/A/A{}.p\".format(m), \"wb\"))\n",
    "\n",
    "A = pickle.load(open(\"../cache/A/A{}.p\".format(m), \"rb\")).to(device)\n",
    "\n",
    "print(A.shape)"
   ]
  },
  {
   "cell_type": "code",
   "execution_count": 34,
   "metadata": {},
   "outputs": [
    {
     "name": "stdout",
     "output_type": "stream",
     "text": [
      "Batch 1/1 finished\n"
     ]
    },
    {
     "data": {
      "image/png": "[encoded data removed]",
      "text/plain": [
       "<Figure size 432x288 with 1 Axes>"
      ]
     },
     "metadata": {},
     "output_type": "display_data"
    }
   ],
   "source": [
    "### Test one sample A measurements ###\n",
    "\n",
    "num_batches = 1\n",
    "batch_size = 10\n",
    "max_steps = 1000\n",
    "max_loss = 0.0\n",
    "optim_lr= 1e-1\n",
    "restarts = 10\n",
    "\n",
    "###\n",
    "\n",
    "out_original = np.zeros((batch_size * num_batches, *imsize))\n",
    "out_results = np.zeros((batch_size * num_batches, *imsize))\n",
    "mse_all = np.full((batch_size * num_batches), np.inf)\n",
    "\n",
    "\n",
    "for batch_i, batch in enumerate(dataloader['test']):\n",
    "    test_sample = batch.to(device)\n",
    "    test_measurements = calc_meas(test_sample)\n",
    "    out_original[batch_size * batch_i : batch_size * batch_i + batch_size] = test_sample.cpu().numpy()\n",
    "\n",
    "    for r in range(restarts):\n",
    "        cur_out_results, cur_loss, cur_mse_all = vaeopt(sample_magnitudes=test_measurements, vae=vae, device=device,\n",
    "                                                        measurement_fn=calc_meas, z_shape=(latent_dim, ),\n",
    "                                                        optim_lr=optim_lr, max_steps=max_steps, max_loss=max_loss)\n",
    "        cur_out_results = cur_out_results.cpu().numpy()\n",
    "        \n",
    "        for i in range(batch_size):\n",
    "            mse = mse_all[batch_size * batch_i + i]\n",
    "            if cur_mse_all[i] < mse:\n",
    "                out_results[batch_size * batch_i + i] = cur_out_results[i]\n",
    "                mse_all[batch_size * batch_i + i] = cur_mse_all[i]\n",
    "\n",
    "    print(\"Batch {0}/{1} finished\".format(batch_i + 1, num_batches))\n",
    "    if batch_i + 1 >= num_batches:\n",
    "        break\n",
    "\n",
    "plt.semilogy(cur_loss)\n",
    "plt.show()"
   ]
  },
  {
   "cell_type": "code",
   "execution_count": 15,
   "metadata": {},
   "outputs": [],
   "source": [
    "### CACHE RESULTS ###\n",
    "\n",
    "import pickle\n",
    "pickle.dump(out_original, open(\"/home/shared/phase-retrieval/test/VAE_MNIST/Ameas10_original_2_1024.p\", \"wb\"))\n",
    "pickle.dump(out_results, open(\"/home/shared/phase-retrieval/test/VAE_MNIST/Ameas10_2_1024.p\", \"wb\"))"
   ]
  },
  {
   "cell_type": "code",
   "execution_count": 16,
   "metadata": {},
   "outputs": [],
   "source": [
    "### LOAD RESULTS ###\n",
    "import pickle\n",
    "\n",
    "out_original = pickle.load(open(\"/home/shared/phase-retrieval/test/VAE_MNIST/Ameas10_original_2_1024.p\", \"rb\"))\n",
    "out_results = pickle.load(open(\"/home/shared/phase-retrieval/test/VAE_MNIST/Ameas10_2_1024.p\", \"rb\"))"
   ]
  },
  {
   "cell_type": "code",
   "execution_count": 17,
   "metadata": {
    "scrolled": false
   },
   "outputs": [
    {
     "name": "stderr",
     "output_type": "stream",
     "text": [
      "Clipping input data to the valid range for imshow with RGB data ([0..1] for floats or [0..255] for integers).\n"
     ]
    },
    {
     "name": "stdout",
     "output_type": "stream",
     "text": [
      "Output under minimized magnitude distance:\n"
     ]
    },
    {
     "data": {
      "image/png": "[encoded data removed]",
      "text/plain": [
       "<Figure size 576x576 with 1 Axes>"
      ]
     },
     "metadata": {},
     "output_type": "display_data"
    },
    {
     "name": "stdout",
     "output_type": "stream",
     "text": [
      "Signal error:\n",
      "  MSE: 0.11353142397992749, std: 0.031233782412331518\n",
      "  MAE: 0.1560977883824453, std: 0.034347826484150835\n",
      "  SSIM: 0.2303134045854805, std: 0.11863522664249829\n",
      "  FASI-MSE: 0.10482852939313039, std: 0.03280194335060228\n",
      "  FASI-MAE: 0.1467905344684512, std: 0.03636844659766063\n",
      "  COCO-MSE: 0.08935994364664142, std: 0.02528515856246703\n",
      "\n",
      "Magnitude error:\n",
      "  MSE Magnitude: 31.395284324818853, std: 12.381652368861163\n",
      "\n",
      "Image constraints:\n",
      "  Imag part = 0.0 - should be very close to 0\n",
      "  Real part is in [0.00, 1.00] - should be in [0, 1]\n"
     ]
    }
   ],
   "source": [
    "print(\"Output under minimized magnitude distance:\")\n",
    "\n",
    "to_plot = np.stack([out_original[:32].reshape(4, 8, 28, 28), \n",
    "                    out_results[:32].reshape(4, 8, 28, 28)], axis=1).reshape(-1, 1, 28, 28)\n",
    "           \n",
    "plot_grid(to_plot, figsize=(8, 8), file=\"../out/vae/mnist/{0}{1}.png\".format('Ameas10_2_1024_', time.strftime(\"%Y%m%d_%H%M%S\")))\n",
    "#plot_grid(to_plot, figsize=(8, 8))"
   ]
  },
  {
   "cell_type": "code",
   "execution_count": 36,
   "metadata": {},
   "outputs": [
    {
     "name": "stdout",
     "output_type": "stream",
     "text": [
      "Signal error:\n",
      "  MSE: 0.04366177406688757, std: 0.038696978091379376\n",
      "  MAE: 0.0766509784847133, std: 0.052606668426867724\n",
      "  SSIM: 0.662533295811494, std: 0.25420009636813656\n",
      "  Sharpness: 0.11456394799842558, std: 0.0611390200569004\n",
      "  PhCo-MSE: 0.07533968826271684, std: 0.08628910914321047\n",
      "  PhCo-MAE: 0.11029134637385532, std: 0.10010783753258978\n",
      "  PhCo-SSIM: 0.5681072846512356, std: 0.3587421082467338\n",
      "  CroCo-MSE: 0.041602680400245014, std: 0.03753745184811144\n",
      "  CroCo-MAE: 0.07417897701263643, std: 0.05115667511517169\n",
      "  CroCo-SSIM: 0.6765519256452457, std: 0.24743247489060374\n",
      "\n",
      "Magnitude error:\n",
      "  MSE Magnitude: 11.411549989231421, std: 9.352781800438981\n",
      "\n",
      "Image constraints:\n",
      "  Imag part = 0.0 - should be very close to 0\n",
      "  Real part is in [0.00, 1.00] - should be in [0, 1]\n",
      "\n",
      "Markdown table values:\n",
      " 0.04366 | 0.07665 | 0.6625 | 0.1146 | 0.07534 | 0.1103 | 0.5681 | 0.04160 | 0.07418 | 0.6766 | 11.41 |\n"
     ]
    }
   ],
   "source": [
    "benchmark(pred=out_results, true=out_original, check_all=True)"
   ]
  },
  {
   "cell_type": "markdown",
   "metadata": {},
   "source": [
    "## Test A measurements random init (1024 samples)\n",
    "\n",
    "lr checked for what works best on 1 batch\n",
    "\n",
    "| Nr Type | iterations | restarts | lr | m | MSE | MAE | SSIM | FASI-MSE | FASI-MAE | COCO-MSE | MSE Magnitude\n",
    "| --- | --- | --- | --- | --- | --- | --- | --- | --- | --- | --- |\n",
    "| 2 | 10000 | 3 | 1e-1 | 784 | 0.004868 | 0.02290 | 0.9489 | 0.004906 | 0.02295 | 0.004863 | 1.937 |\n",
    "| 2 | 10000 | 3 | 1e-1 | 500 | 0.005173 | 0.02340 | 0.9458 | 0.005214 | 0.02345 | 0.005153 | 2.037 |\n",
    "| 2 | 10000 | 3 | 1e-1 | 300 | 0.008464 | 0.02776 | 0.9182 | 0.008403 | 0.02771 | 0.007937 | 2.886 |\n",
    "| 2 | 10000 | 3 | 1e-1 | 200 | 0.01564 | 0.03701 | 0.8606 | 0.01596 | 0.03741 | 0.01449 | 4.821 |\n",
    "| 2 | 10000 | 3 | 1e-1 | 100 | 0.03992 | 0.06878 | 0.6741 | 0.04080 | 0.06975 | 0.03583 | 11.22 |\n",
    "| 2 | 10000 | 3 | 1e-1 | 50 | 0.07241 | 0.1090 | 0.4476 | 0.07435 | 0.1110 | 0.06236 | 19.31 |\n",
    "| 2 | 10000 | 3 | 1e-1 | 25 | 0.1004 | 0.13878 | 0.3107 | 0.09986 | 0.1381 | 0.08371 | 26.10 |\n",
    "| 2 | 10000 | 3 | 1e-1 | 10 | 0.1164 | 0.1527 | 0.2580 | 0.1112 | 0.1472 | 0.09411 | 30.099 |\n",
    "| 2 | 10000 | 3 | 1e-1 | 0 | 0.1135 | 0.1561 | 0.2303 | 0.1048 | 0.1468 | 0.08936 | 31.39 |"
   ]
  },
  {
   "cell_type": "markdown",
   "metadata": {},
   "source": [
    "## Test A measurements random init (10 samples)\n",
    "\n",
    "\n",
    "| Nr Type | iterations | restarts | lr | m | MSE | MAE | SSIM |\n",
    "| --- | --- | --- | --- | --- | --- | --- | --- |\n",
    "| 2 | 10000 | 5 | 1e-1 | 50 |  0.06695 | 0.1021 | 0.4986 |\n",
    "| 2 | 1000 | 10 | 1e-1 | 50 | 0.04366 | 0.07665 | 0.6625 |\n"
   ]
  },
  {
   "cell_type": "code",
   "execution_count": 18,
   "metadata": {},
   "outputs": [
    {
     "data": {
      "image/png": "[encoded data removed]",
      "text/plain": [
       "<Figure size 432x288 with 1 Axes>"
      ]
     },
     "metadata": {},
     "output_type": "display_data"
    }
   ],
   "source": [
    "mse = [0.004867, 0.005173, 0.008463, 0.01564, 0.03992, 0.07241, 0.1004, 0.1165]\n",
    "m = [784, 500, 300, 200, 100, 50, 25, 10]\n",
    "std = [0.004694, 0.005842, 0.01773, 0.02817, 0.04204, 0.04059, 0.03873, 0.03794]\n",
    "\n",
    "axes = plt.gca()\n",
    "axes.set_xlim([0, 800])\n",
    "axes.set_ylim([0, 0.15])\n",
    "plt.errorbar(m, mse, std, marker='^')\n",
    "plt.show()"
   ]
  },
  {
   "cell_type": "markdown",
   "metadata": {},
   "source": [
    "### Raw outputs:\n",
    "\n",
    "m=784:\n",
    "\n",
    "Signal error:\n",
    "  MSE: 0.004867586453620506, std: 0.004694949393071813\n",
    "  MAE: 0.02289965629581409, std: 0.010952862035534333\n",
    "  SSIM: 0.9488822423684341, std: 0.04722588146864507\n",
    "  FASI-MSE: 0.004906189543105447, std: 0.0053646108229364695\n",
    "  FASI-MAE: 0.0229459835051708, std: 0.011419513247268014\n",
    "  COCO-MSE: 0.0048631002615555936, std: 0.004641734905393253\n",
    "\n",
    "Magnitude error:\n",
    "  MSE Magnitude: 1.9370875334562903, std: 1.6223327312309255\n",
    "\n",
    "\n",
    "m=500:\n",
    "\n",
    "Signal error:\n",
    "  MSE: 0.005173815709279899, std: 0.005842832392618835\n",
    "  MAE: 0.023399108290832936, std: 0.012318621206219633\n",
    "  SSIM: 0.94582601112062, std: 0.05799499144949138\n",
    "  FASI-MSE: 0.005214369365255133, std: 0.0062091802667873265\n",
    "  FASI-MAE: 0.023448101831928886, std: 0.012637479751949269\n",
    "  COCO-MSE: 0.005152766103555335, std: 0.005609049913945585\n",
    "\n",
    "Magnitude error:\n",
    "  MSE Magnitude: 2.037961093062209, std: 1.9890685653855016\n",
    "\n",
    "\n",
    "m=300:\n",
    "\n",
    "Signal error:\n",
    "  MSE: 0.008463605682660802, std: 0.017731802714780795\n",
    "  MAE: 0.027763933169428642, std: 0.024368611278947627\n",
    "  SSIM: 0.9182234822551578, std: 0.1400489496299788\n",
    "  FASI-MSE: 0.00840348482154082, std: 0.017214401138884127\n",
    "  FASI-MAE: 0.027714577030828594, std: 0.02393978106198022\n",
    "  COCO-MSE: 0.007937457294153936, std: 0.014635789032079807\n",
    "\n",
    "Magnitude error:\n",
    "  MSE Magnitude: 2.8860125433604633, std: 4.42504652490602\n",
    "\n",
    "Image constraints:\n",
    "  Imag part = 0.0 - should be very close to 0\n",
    "  Real part is in [0.00, 1.00] - should be in [0, 1]\n",
    "\n",
    "\n",
    "m=200:\n",
    "\n",
    "Signal error:\n",
    "  MSE: 0.01564182045189706, std: 0.028178433038176263\n",
    "  MAE: 0.037009493421559694, std: 0.036949250732262046\n",
    "  SSIM: 0.8605807462205224, std: 0.21623219385475984\n",
    "  FASI-MSE: 0.015958637162885578, std: 0.02900610420737281\n",
    "  FASI-MAE: 0.03740745833339535, std: 0.03809787739804666\n",
    "  COCO-MSE: 0.014491643593808164, std: 0.024829579903736767\n",
    "\n",
    "Magnitude error:\n",
    "  MSE Magnitude: 4.820822520670815, std: 7.485833743481511\n",
    "\n",
    "\n",
    "m=100:\n",
    "\n",
    "Signal error:\n",
    "  MSE: 0.0399187281967633, std: 0.04204587368752897\n",
    "  MAE: 0.06877082396625585, std: 0.05258951902842954\n",
    "  SSIM: 0.6741111704748709, std: 0.2905061590005729\n",
    "  FASI-MSE: 0.04079578508084761, std: 0.042241328736677415\n",
    "  FASI-MAE: 0.06975297516449966, std: 0.05310910734950914\n",
    "  COCO-MSE: 0.03583008687276413, std: 0.03574370426927193\n",
    "\n",
    "Magnitude error:\n",
    "  MSE Magnitude: 11.21535315686895, std: 10.735382944726116\n",
    "\n",
    "\n",
    "m=50:\n",
    "\n",
    "Signal error:\n",
    "  MSE: 0.0724055045263752, std: 0.04059079643963494\n",
    "  MAE: 0.10895643126877401, std: 0.04623282538082707\n",
    "  SSIM: 0.4475976422216453, std: 0.23689426586341722\n",
    "  FASI-MSE: 0.07434697570288043, std: 0.04183367316511802\n",
    "  FASI-MAE: 0.11099025607218097, std: 0.04771276428432791\n",
    "  COCO-MSE: 0.06235973210959271, std: 0.032357643993114624\n",
    "\n",
    "Magnitude error:\n",
    "  MSE Magnitude: 19.312419639785706, std: 10.18353815864352\n",
    "\n",
    "\n",
    "m=25:\n",
    "\n",
    "Signal error:\n",
    "  MSE: 0.10043600748676557, std: 0.03873204073599404\n",
    "  MAE: 0.13877861299172004, std: 0.040827240987581656\n",
    "  SSIM: 0.310729238340512, std: 0.1751272492140091\n",
    "  FASI-MSE: 0.09986208847650632, std: 0.03984975460766077\n",
    "  FASI-MAE: 0.138116513148046, std: 0.04257102700307723\n",
    "  COCO-MSE: 0.08371095624772705, std: 0.030043478774041777\n",
    "\n",
    "Magnitude error:\n",
    "  MSE Magnitude: 26.100611518200953, std: 10.257426376818193\n",
    "  \n",
    "\n",
    "m=10:\n",
    "\n",
    "Signal error:\n",
    "  MSE: 0.1164539288925064, std: 0.037949125852737256\n",
    "  MAE: 0.15270692806062414, std: 0.040388893643707624\n",
    "  SSIM: 0.25799861568455107, std: 0.13934700835676947\n",
    "  FASI-MSE: 0.11119309286131787, std: 0.039081064561679195\n",
    "  FASI-MAE: 0.14715339355555035, std: 0.041937919720239254\n",
    "  COCO-MSE: 0.09411475219059151, std: 0.02988361385447494\n",
    "\n",
    "Magnitude error:\n",
    "  MSE Magnitude: 30.09949258958082, std: 11.777448080610938\n",
    "\n",
    "\n",
    "m=0:\n",
    "\n",
    "\n",
    "Signal error:\n",
    "  MSE: 0.11353142397992749, std: 0.031233782412331518\n",
    "  MAE: 0.1560977883824453, std: 0.034347826484150835\n",
    "  SSIM: 0.2303134045854805, std: 0.11863522664249829\n",
    "  FASI-MSE: 0.10482852939313039, std: 0.03280194335060228\n",
    "  FASI-MAE: 0.1467905344684512, std: 0.03636844659766063\n",
    "  COCO-MSE: 0.08935994364664142, std: 0.02528515856246703\n",
    "\n",
    "Magnitude error:\n",
    "  MSE Magnitude: 31.395284324818853, std: 12.381652368861163\n"
   ]
  },
  {
   "cell_type": "code",
   "execution_count": null,
   "metadata": {},
   "outputs": [],
   "source": []
  }
 ],
 "metadata": {
  "accelerator": "GPU",
  "colab": {
   "collapsed_sections": [],
   "name": "MNIST_SignalVAE.ipynb",
   "provenance": [],
   "version": "0.3.2"
  },
  "kernelspec": {
   "display_name": "Python 3",
   "language": "python",
   "name": "python3"
  },
  "language_info": {
   "codemirror_mode": {
    "name": "ipython",
    "version": 3
   },
   "file_extension": ".py",
   "mimetype": "text/x-python",
   "name": "python",
   "nbconvert_exporter": "python",
   "pygments_lexer": "ipython3",
   "version": "3.6.8"
  }
 },
 "nbformat": 4,
 "nbformat_minor": 1
}
